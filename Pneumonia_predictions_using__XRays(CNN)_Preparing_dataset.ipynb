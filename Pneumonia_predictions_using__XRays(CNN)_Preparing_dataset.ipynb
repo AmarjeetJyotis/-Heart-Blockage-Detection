{
 "cells": [
  {
   "cell_type": "markdown",
   "metadata": {},
   "source": [
    "# Beginning\n",
    "This is the first part of the code here we load the path where data exists and assigns the labels for the categories.\n",
    "This problem consist two categories namely Normal and Pneumonia\n",
    "Here we assign\n",
    "0-Normal\n",
    "1-Pneumonia\n"
   ]
  },
  {
   "cell_type": "code",
   "execution_count": 1,
   "metadata": {},
   "outputs": [
    {
     "name": "stdout",
     "output_type": "stream",
     "text": [
      "['NORMAL', 'PNEUMONIA']\n",
      "[0, 1]\n",
      "{'NORMAL': 0, 'PNEUMONIA': 1}\n"
     ]
    }
   ],
   "source": [
    "import cv2 as cv\n",
    "import os\n",
    "\n",
    "dataPath='Chestimages'\n",
    "Categories=os.listdir(dataPath)\n",
    "\n",
    "labels=[i for i in range (len(Categories))]\n",
    "\n",
    "labeldict={}\n",
    "\n",
    "for i in range (len(Categories)):\n",
    "    labeldict[Categories[i]]=labels[i]\n",
    "\n",
    "print(Categories)\n",
    "print(labels)\n",
    "print(labeldict)  \n"
   ]
  },
  {
   "cell_type": "markdown",
   "metadata": {},
   "source": [
    "### Preparing the Images\n",
    "In this part of the code we prepare the images for processing.\n",
    "We read,resize the images convert them to gray and append them to the empty python list.\n",
    "Here we add a exception to remove the corupted images.\n",
    "\n"
   ]
  },
  {
   "cell_type": "code",
   "execution_count": 2,
   "metadata": {},
   "outputs": [],
   "source": [
    "imageSize=128\n",
    "Dataset=[]\n",
    "\n",
    "for Category in Categories:\n",
    "    folderPath=os.path.join(dataPath,Category)\n",
    "    #print(folderPath)\n",
    "    imageNames=os.listdir(folderPath)\n",
    "    #print(imageNames)\n",
    "    \n",
    "    for imageName in imageNames:\n",
    "        imagePath=os.path.join(folderPath,imageName)\n",
    "         #print(imagePath)\n",
    "        image=cv.imread(imagePath)\n",
    "        \n",
    "        try:\n",
    "            grayImage = cv.cvtColor(image,cv.COLOR_BGR2GRAY)\n",
    "            resized=cv.resize(grayImage,(imageSize,imageSize))\n",
    "            Dataset.append([resized,labeldict[Category]])\n",
    "            \n",
    "        except Exception as e:\n",
    "            print(e)"
   ]
  },
  {
   "cell_type": "code",
   "execution_count": 3,
   "metadata": {},
   "outputs": [],
   "source": [
    "#len(Dataset)\n",
    "from random import shuffle\n",
    "\n",
    "shuffle(Dataset)"
   ]
  },
  {
   "cell_type": "markdown",
   "metadata": {},
   "source": [
    "Here we append the data python list from the features,here the feature is the resized image and target as the label."
   ]
  },
  {
   "cell_type": "code",
   "execution_count": 4,
   "metadata": {},
   "outputs": [],
   "source": [
    "data=[]\n",
    "target=[]\n",
    "\n",
    "for feature,label in Dataset:\n",
    "    \n",
    "    data.append(feature)\n",
    "    target.append(label)"
   ]
  },
  {
   "cell_type": "markdown",
   "metadata": {},
   "source": [
    "### data and target preprocessing\n",
    "We convert the data and target into a numpy array to further processing.  \n",
    "In data we divide all pixels by 255 to get all pixel values between 0-1.\n",
    "We reshape the data because the CNNs require 4 dimensional input, therefore we add the dimension 1, this is to represent grayscale image, for color images you may have to use 3. \n",
    "And we convert the target using np_utils.to_categorical to make the categorical representation.\n"
   ]
  },
  {
   "cell_type": "code",
   "execution_count": 5,
   "metadata": {},
   "outputs": [
    {
     "name": "stdout",
     "output_type": "stream",
     "text": [
      "(5216, 128, 128)\n",
      "(5216, 128, 128, 1)\n",
      "(5216,)\n"
     ]
    }
   ],
   "source": [
    "import numpy as np\n",
    "data=np.array(data)/255\n",
    "print(data.shape)\n",
    "data=np.reshape(data,(data.shape[0],imageSize,imageSize,1))\n",
    "target=np.array(target)\n",
    "#print(target)\n",
    "#print(data.shape)\n",
    "print(data.shape)\n",
    "print(target.shape)\n",
    "import tensorflow as tf\n",
    "from tensorflow import keras\n",
    "\n",
    "# Your code using keras.utils\n",
    "newTarget = keras.utils.to_categorical(target)\n",
    "\n",
    "#print(newTarget)"
   ]
  },
  {
   "cell_type": "markdown",
   "metadata": {},
   "source": [
    "### Saving data & the target"
   ]
  },
  {
   "cell_type": "code",
   "execution_count": 6,
   "metadata": {},
   "outputs": [],
   "source": [
    "np.save('dataChestXray',data)\n",
    "np.save('targetChestXray',newTarget)"
   ]
  },
  {
   "cell_type": "code",
   "execution_count": null,
   "metadata": {},
   "outputs": [],
   "source": [
    " "
   ]
  }
 ],
 "metadata": {
  "kernelspec": {
   "display_name": "Python 3 (ipykernel)",
   "language": "python",
   "name": "python3"
  },
  "language_info": {
   "codemirror_mode": {
    "name": "ipython",
    "version": 3
   },
   "file_extension": ".py",
   "mimetype": "text/x-python",
   "name": "python",
   "nbconvert_exporter": "python",
   "pygments_lexer": "ipython3",
   "version": "3.10.9"
  }
 },
 "nbformat": 4,
 "nbformat_minor": 2
}
